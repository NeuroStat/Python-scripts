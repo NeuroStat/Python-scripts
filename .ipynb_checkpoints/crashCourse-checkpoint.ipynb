{
 "cells": [
  {
   "cell_type": "code",
   "execution_count": 5,
   "metadata": {
    "collapsed": false
   },
   "outputs": [
    {
     "name": "stdout",
     "output_type": "stream",
     "text": [
      "Hello, world\n"
     ]
    }
   ],
   "source": [
    "print(\"Hello, world\")"
   ]
  },
  {
   "cell_type": "code",
   "execution_count": 6,
   "metadata": {
    "collapsed": false
   },
   "outputs": [
    {
     "name": "stdout",
     "output_type": "stream",
     "text": [
      "2\n"
     ]
    }
   ],
   "source": [
    "# We can also create comments\n",
    "print(1 + 1)"
   ]
  },
  {
   "cell_type": "code",
   "execution_count": 3,
   "metadata": {
    "collapsed": false
   },
   "outputs": [
    {
     "name": "stdout",
     "output_type": "stream",
     "text": [
      "Hello Sponge Bob\n"
     ]
    }
   ],
   "source": [
    "# Create string\n",
    "template = \"Hello %s\"\n",
    "print(template % \"Sponge Bob\")"
   ]
  },
  {
   "cell_type": "code",
   "execution_count": 4,
   "metadata": {
    "collapsed": false
   },
   "outputs": [
    {
     "name": "stdout",
     "output_type": "stream",
     "text": [
      "Hello, Sponge Bob. 1 + 2 = 3.\n"
     ]
    }
   ],
   "source": [
    "template = \"Hello, %s. %i + %i = %i.\"\n",
    "print(template % (\"Sponge Bob\", 1, 2, 3))"
   ]
  },
  {
   "cell_type": "code",
   "execution_count": 5,
   "metadata": {
    "collapsed": false
   },
   "outputs": [
    {
     "name": "stdout",
     "output_type": "stream",
     "text": [
      "Hello, Sponge Bob. 1 + 2 = \n"
     ]
    }
   ],
   "source": [
    "template = \"Hello, %s. %i + %i = \"\n",
    "print(template % (\"Sponge Bob\", 1, 2))"
   ]
  },
  {
   "cell_type": "code",
   "execution_count": 7,
   "metadata": {
    "collapsed": false
   },
   "outputs": [
    {
     "data": {
      "text/plain": [
       "str"
      ]
     },
     "execution_count": 7,
     "metadata": {},
     "output_type": "execute_result"
    }
   ],
   "source": [
    "# Check the structure: tuple means 'should not be changed anymore'\n",
    "type((\"Hello, %s. %i + %i = %i.\"))"
   ]
  },
  {
   "cell_type": "code",
   "execution_count": 10,
   "metadata": {
    "collapsed": false
   },
   "outputs": [
    {
     "data": {
      "text/plain": [
       "str"
      ]
     },
     "execution_count": 10,
     "metadata": {},
     "output_type": "execute_result"
    }
   ],
   "source": [
    "extra =\"\"\"bla bla bla bla \\\n",
    "    test 2 \\\n",
    "blq\"\"\"\n",
    "type(extra)"
   ]
  },
  {
   "cell_type": "code",
   "execution_count": 13,
   "metadata": {
    "collapsed": false
   },
   "outputs": [
    {
     "name": "stdout",
     "output_type": "stream",
     "text": [
      "Hello, I'm Mr. Bumble\n",
      "['Hello,', \"I'm\", 'Mr.', 'Bumble']\n"
     ]
    }
   ],
   "source": [
    "# Anything in Python is an object (split object method)\n",
    "raw = \"Hello, I'm Mr. Bumble\"\n",
    "print(raw)\n",
    "parts = raw.split(\" \")\n",
    "print(parts)"
   ]
  },
  {
   "cell_type": "code",
   "execution_count": 14,
   "metadata": {
    "collapsed": false
   },
   "outputs": [
    {
     "data": {
      "text/plain": [
       "list"
      ]
     },
     "execution_count": 14,
     "metadata": {},
     "output_type": "execute_result"
    }
   ],
   "source": [
    "# [] brackets point to list type (= ordered).\n",
    "type(parts)"
   ]
  },
  {
   "cell_type": "code",
   "execution_count": null,
   "metadata": {
    "collapsed": true
   },
   "outputs": [],
   "source": [
    "# Use tab to get to help\n",
    "parts."
   ]
  },
  {
   "cell_type": "code",
   "execution_count": 19,
   "metadata": {
    "collapsed": false
   },
   "outputs": [
    {
     "name": "stdout",
     "output_type": "stream",
     "text": [
      "What is your name? sanne\n",
      "Hello, sanne. \n"
     ]
    }
   ],
   "source": [
    "name = input(\"What is your name? \")\n",
    "print(\"Hello, %s. \" % name)"
   ]
  },
  {
   "cell_type": "markdown",
   "metadata": {},
   "source": [
    "Convert an integer to char and back"
   ]
  },
  {
   "cell_type": "code",
   "execution_count": 20,
   "metadata": {
    "collapsed": false
   },
   "outputs": [
    {
     "name": "stdout",
     "output_type": "stream",
     "text": [
      "41\n"
     ]
    }
   ],
   "source": [
    "age=\"40\"\n",
    "print(int(age)+1)"
   ]
  },
  {
   "cell_type": "markdown",
   "metadata": {},
   "source": [
    "# Dictionaries\n",
    "\n"
   ]
  },
  {
   "cell_type": "markdown",
   "metadata": {},
   "source": [
    "dictionary is a data structure for storing key-value pairs vs lists ...\n",
    "    numpy list and dictionaries are what you need. {} -> dictionary ; \n",
    "   "
   ]
  },
  {
   "cell_type": "code",
   "execution_count": 25,
   "metadata": {
    "collapsed": false
   },
   "outputs": [
    {
     "name": "stdout",
     "output_type": "stream",
     "text": [
      "semga is 45 and weighs at 95\n"
     ]
    }
   ],
   "source": [
    "person=dict(name=\"semga\", age=45, weight=95)\n",
    "print(\"%s is %i and weighs at %i\" % (person[\"name\"], person[\"age\"], person[\"weight\"]))"
   ]
  },
  {
   "cell_type": "code",
   "execution_count": 26,
   "metadata": {
    "collapsed": false
   },
   "outputs": [
    {
     "data": {
      "text/plain": [
       "'segma'"
      ]
     },
     "execution_count": 26,
     "metadata": {},
     "output_type": "execute_result"
    }
   ],
   "source": [
    "person={0:\"segma\", 1:45, 2:95}\n",
    "person[0]"
   ]
  },
  {
   "cell_type": "code",
   "execution_count": 32,
   "metadata": {
    "collapsed": false
   },
   "outputs": [
    {
     "name": "stdout",
     "output_type": "stream",
     "text": [
      "dict_items([(0, 'segma'), (1, 45), (2, 95)])\n"
     ]
    }
   ],
   "source": [
    "print(person.items())"
   ]
  },
  {
   "cell_type": "code",
   "execution_count": 33,
   "metadata": {
    "collapsed": false
   },
   "outputs": [
    {
     "name": "stdout",
     "output_type": "stream",
     "text": [
      "dict_keys([0, 1, 2])\n"
     ]
    }
   ],
   "source": [
    "print(person.keys())"
   ]
  },
  {
   "cell_type": "markdown",
   "metadata": {},
   "source": [
    "# Conditionals"
   ]
  },
  {
   "cell_type": "markdown",
   "metadata": {},
   "source": [
    "## *if* statements"
   ]
  },
  {
   "cell_type": "code",
   "execution_count": 35,
   "metadata": {
    "collapsed": false
   },
   "outputs": [],
   "source": [
    "a=10\n",
    "b=15"
   ]
  },
  {
   "cell_type": "code",
   "execution_count": 38,
   "metadata": {
    "collapsed": false
   },
   "outputs": [
    {
     "name": "stdout",
     "output_type": "stream",
     "text": [
      " a < b \n",
      "done\n"
     ]
    }
   ],
   "source": [
    "if a < b:\n",
    "    print(\" a < b \")\n",
    "elif a > b:\n",
    "    print(\" a > b \")\n",
    "else:\n",
    "    print(\" a == b\")\n",
    "    \n",
    "    \n",
    "    \n",
    "    \n",
    "print(\"done\")"
   ]
  },
  {
   "cell_type": "markdown",
   "metadata": {},
   "source": [
    "versus"
   ]
  },
  {
   "cell_type": "code",
   "execution_count": 39,
   "metadata": {
    "collapsed": false
   },
   "outputs": [
    {
     "name": "stdout",
     "output_type": "stream",
     "text": [
      " a < b \n"
     ]
    }
   ],
   "source": [
    "if a < b:\n",
    "    print(\" a < b \")\n",
    "elif a > b:\n",
    "    print(\" a > b \")\n",
    "else:\n",
    "    print(\" a == b\")\n",
    "    \n",
    "    \n",
    "    \n",
    "    \n",
    "    print(\"done\")\n"
   ]
  },
  {
   "cell_type": "markdown",
   "metadata": {},
   "source": [
    "## *for* loop"
   ]
  },
  {
   "cell_type": "code",
   "execution_count": 42,
   "metadata": {
    "collapsed": false
   },
   "outputs": [
    {
     "name": "stdout",
     "output_type": "stream",
     "text": [
      "Hello there, han , how are you doing?\n",
      "Hello there, freya , how are you doing?\n",
      "Hello there, bieke , how are you doing?\n",
      "Hello there, jasper , how are you doing?\n"
     ]
    }
   ],
   "source": [
    "for person in [\"han\", \"freya\", \"bieke\", \"jasper\"]:\n",
    "    print(\"Hello there, %s , how are you doing?\" % person)"
   ]
  },
  {
   "cell_type": "code",
   "execution_count": 46,
   "metadata": {
    "collapsed": false
   },
   "outputs": [
    {
     "name": "stdout",
     "output_type": "stream",
     "text": [
      "[1] Hello there, han , how are you doing?\n",
      "[2] Hello there, freya , how are you doing?\n",
      "[3] Hello there, bieke , how are you doing?\n",
      "[4] Hello there, jasper , how are you doing?\n",
      "4\n"
     ]
    }
   ],
   "source": [
    "cnt=0\n",
    "for person in [\"han\", \"freya\", \"bieke\", \"jasper\"]:\n",
    "    print(\"[%i] Hello there, %s , how are you doing?\" %(cnt+1, person))\n",
    "    cnt+=1\n",
    "\n",
    "print(cnt)"
   ]
  },
  {
   "cell_type": "code",
   "execution_count": 48,
   "metadata": {
    "collapsed": false
   },
   "outputs": [
    {
     "name": "stdout",
     "output_type": "stream",
     "text": [
      "[1] Hello there, han , how are you doing?\n",
      "[2] Hello there, freya , how are you doing?\n",
      "[3] Hello there, bieke , how are you doing?\n",
      "[4] Hello there, jasper , how are you doing?\n"
     ]
    }
   ],
   "source": [
    "for ind, person in enumerate([\"han\", \"freya\", \"bieke\", \"jasper\"]):\n",
    "    print(\"[%i] Hello there, %s , how are you doing?\" %(ind + 1 , person))\n"
   ]
  },
  {
   "cell_type": "code",
   "execution_count": 53,
   "metadata": {
    "collapsed": false
   },
   "outputs": [
    {
     "name": "stdout",
     "output_type": "stream",
     "text": [
      "[1] Hello there, han , how are you doing?\n",
      "[2] Hello there, freya , how are you doing?\n",
      "[3] Hello there, bieke , how are you doing?\n",
      "[4] Hello there, jasper , how are you doing?\n",
      "4\n"
     ]
    }
   ],
   "source": [
    "cnt=0\n",
    "persons=[\"han\", \"freya\", \"bieke\", \"jasper\"]\n",
    "while cnt < len(persons) :\n",
    "    print(\"[%i] Hello there, %s , how are you doing?\" %(cnt+1, persons[cnt]))\n",
    "    cnt+=1\n",
    "\n",
    "print(cnt)"
   ]
  },
  {
   "cell_type": "markdown",
   "metadata": {},
   "source": [
    "## functions"
   ]
  },
  {
   "cell_type": "code",
   "execution_count": 51,
   "metadata": {
    "collapsed": false
   },
   "outputs": [],
   "source": [
    "def addition(a,b):\n",
    "    output= a+b\n",
    "    return output\n",
    "\n",
    "addition(100, 304)\n",
    "addition??\n"
   ]
  },
  {
   "cell_type": "code",
   "execution_count": 55,
   "metadata": {
    "collapsed": false
   },
   "outputs": [],
   "source": [
    "class my_class:\n",
    "    def addition(a,b):\n",
    "        output= a+b\n",
    "        return output\n",
    "\n",
    "\n"
   ]
  },
  {
   "cell_type": "code",
   "execution_count": 60,
   "metadata": {
    "collapsed": false
   },
   "outputs": [
    {
     "data": {
      "text/plain": [
       "300"
      ]
     },
     "execution_count": 60,
     "metadata": {},
     "output_type": "execute_result"
    }
   ],
   "source": [
    "c=my_class()\n",
    "\n",
    "my_class.addition(100,200)"
   ]
  },
  {
   "cell_type": "code",
   "execution_count": 64,
   "metadata": {
    "collapsed": false
   },
   "outputs": [
    {
     "name": "stdout",
     "output_type": "stream",
     "text": [
      "+++++++++++\n",
      "fMRI roels !\n",
      "+++++++++++\n",
      "\n",
      "extra\n",
      "+++++++++++\n",
      "fMRI roels !\n",
      "+++++++++++\n",
      "\n",
      "+++++++++++\n",
      "fMRI roels !\n",
      "+++++++++++\n",
      "\n",
      "extra\n",
      "+++++++++++\n",
      "fMRI roels !\n",
      "+++++++++++\n",
      "\n",
      "+++++++++++\n",
      "fMRI roels !\n",
      "+++++++++++\n",
      "\n"
     ]
    }
   ],
   "source": [
    "def print_banner(times=1):\n",
    "    for _ in range(times):\n",
    "        print(\"+\" * 11)\n",
    "        print(\"fMRI roels !\")\n",
    "        print(\"+\" * 11)\n",
    "        print()\n",
    "        \n",
    "print_banner()\n",
    "print(\"extra\")\n",
    "print_banner(2)\n",
    "print(\"extra\")\n",
    "# explicit versus non-explicit referencing to arguments\n",
    "print_banner(times=2)"
   ]
  },
  {
   "cell_type": "code",
   "execution_count": 65,
   "metadata": {
    "collapsed": false
   },
   "outputs": [
    {
     "data": {
      "text/plain": [
       "[0, 1, 4, 9, 16, 25, 36, 49, 64, 81]"
      ]
     },
     "execution_count": 65,
     "metadata": {},
     "output_type": "execute_result"
    }
   ],
   "source": [
    "def square(x):\n",
    "    \"\"\"Computes the square of the input.\"\"\"\n",
    "    return x ** 2\n",
    "\n",
    "[square(x) for x in range(10)]"
   ]
  },
  {
   "cell_type": "code",
   "execution_count": 81,
   "metadata": {
    "collapsed": false
   },
   "outputs": [],
   "source": [
    "# see also\n",
    "tst=map(square, range(10))"
   ]
  },
  {
   "cell_type": "code",
   "execution_count": 82,
   "metadata": {
    "collapsed": false
   },
   "outputs": [
    {
     "name": "stdout",
     "output_type": "stream",
     "text": [
      "0\n",
      "1\n",
      "4\n",
      "9\n",
      "16\n",
      "25\n",
      "36\n",
      "49\n",
      "64\n",
      "81\n"
     ]
    }
   ],
   "source": [
    "print(*tst, sep='\\n')"
   ]
  },
  {
   "cell_type": "code",
   "execution_count": 89,
   "metadata": {
    "collapsed": false
   },
   "outputs": [
    {
     "name": "stdout",
     "output_type": "stream",
     "text": [
      "time.struct_time(tm_year=2016, tm_mon=6, tm_mday=6, tm_hour=11, tm_min=41, tm_sec=25, tm_wday=0, tm_yday=158, tm_isdst=1)\n",
      "________________________________________________________________________________\n",
      "sleeping for a while\n",
      ".zz.ZZz\n",
      "i'm back\n"
     ]
    }
   ],
   "source": [
    "from time import sleep, localtime\n",
    "print(localtime())\n",
    "print(\"_\" * 80)\n",
    "print(\"sleeping for a while\")\n",
    "print(\".zz.ZZz\")\n",
    "sleep(5)\n",
    "print(\"i'm back\")"
   ]
  },
  {
   "cell_type": "code",
   "execution_count": null,
   "metadata": {
    "collapsed": false
   },
   "outputs": [],
   "source": [
    "### OK time for the "
   ]
  },
  {
   "cell_type": "code",
   "execution_count": null,
   "metadata": {
    "collapsed": true
   },
   "outputs": [],
   "source": []
  }
 ],
 "metadata": {
  "kernelspec": {
   "display_name": "Python 3",
   "language": "python",
   "name": "python3"
  },
  "language_info": {
   "codemirror_mode": {
    "name": "ipython",
    "version": 3
   },
   "file_extension": ".py",
   "mimetype": "text/x-python",
   "name": "python",
   "nbconvert_exporter": "python",
   "pygments_lexer": "ipython3",
   "version": "3.5.1"
  }
 },
 "nbformat": 4,
 "nbformat_minor": 0
}
