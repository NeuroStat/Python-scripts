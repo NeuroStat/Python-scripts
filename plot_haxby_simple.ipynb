{
  "nbformat_minor": 0, 
  "nbformat": 4, 
  "cells": [
    {
      "execution_count": null, 
      "cell_type": "code", 
      "source": [
        "%matplotlib inline"
      ], 
      "outputs": [], 
      "metadata": {
        "collapsed": false
      }
    }, 
    {
      "source": [
        "\nSimple example of decoding: the Haxby data\n==============================================\n\nHere is a simple example of decoding, reproducing the Haxby 2001\nstudy on a face vs cat discrimination task in a mask of the ventral\nstream.\n"
      ], 
      "cell_type": "markdown", 
      "metadata": {}
    }, 
    {
      "source": [
        "Retrieve and load the Haxby dataset\n"
      ], 
      "cell_type": "markdown", 
      "metadata": {}
    }, 
    {
      "execution_count": null, 
      "cell_type": "code", 
      "source": [
        "from nilearn import datasets\nhaxby_dataset = datasets.fetch_haxby()\n\n# print basic information on the dataset\nprint('First subject anatomical nifti image (3D) is at: %s' %\n      haxby_dataset.anat[0])\nprint('First subject functional nifti images (4D) are at: %s' %\n      haxby_dataset.func[0])  # 4D data\n\n# Load the behavioral labels\nimport numpy as np\n# Load target information as string and give a numerical identifier to each\nlabels = np.recfromcsv(haxby_dataset.session_target[0], delimiter=\" \")\n\n# scikit-learn >= 0.14 supports text labels. You can replace this line by:\n# target = labels['labels']\n_, target = np.unique(labels['labels'], return_inverse=True)\n\n# Keep only data corresponding to faces or cats\ncondition_mask = np.logical_or(labels['labels'] == b'face',\n                               labels['labels'] == b'cat')\ntarget = target[condition_mask]"
      ], 
      "outputs": [], 
      "metadata": {
        "collapsed": false
      }
    }, 
    {
      "source": [
        "Prepare the data: apply the mask\n"
      ], 
      "cell_type": "markdown", 
      "metadata": {}
    }, 
    {
      "execution_count": null, 
      "cell_type": "code", 
      "source": [
        "from nilearn.input_data import NiftiMasker\nmask_filename = haxby_dataset.mask_vt[0]\n# For decoding, standardizing is often very important\nnifti_masker = NiftiMasker(mask_img=mask_filename, standardize=True)\n\nfunc_filename = haxby_dataset.func[0]\n# We give the nifti_masker a filename and retrieve a 2D array ready\n# for machine learning with scikit-learn\nfmri_masked = nifti_masker.fit_transform(func_filename)\n\n# Restrict the classification to the face vs cat discrimination\nfmri_masked = fmri_masked[condition_mask]"
      ], 
      "outputs": [], 
      "metadata": {
        "collapsed": false
      }
    }, 
    {
      "source": [
        "The decoding\n"
      ], 
      "cell_type": "markdown", 
      "metadata": {}
    }, 
    {
      "execution_count": null, 
      "cell_type": "code", 
      "source": [
        "# Here we use a Support Vector Classification, with a linear kernel\nfrom sklearn.svm import SVC\nsvc = SVC(kernel='linear')\n\n# And we run it\nsvc.fit(fmri_masked, target)\nprediction = svc.predict(fmri_masked)"
      ], 
      "outputs": [], 
      "metadata": {
        "collapsed": false
      }
    }, 
    {
      "source": [
        "Compute prediction scores using cross-validation\n"
      ], 
      "cell_type": "markdown", 
      "metadata": {}
    }, 
    {
      "execution_count": null, 
      "cell_type": "code", 
      "source": [
        "from sklearn.cross_validation import KFold\n\ncv = KFold(n=len(fmri_masked), n_folds=5)\ncv_scores = []\n\nfor train, test in cv:\n    svc.fit(fmri_masked[train], target[train])\n    prediction = svc.predict(fmri_masked[test])\n    cv_scores.append(np.sum(prediction == target[test])\n                     / float(np.size(target[test])))\n\nprint(cv_scores)"
      ], 
      "outputs": [], 
      "metadata": {
        "collapsed": false
      }
    }, 
    {
      "source": [
        "Retrieve the discriminating weights and save them\n"
      ], 
      "cell_type": "markdown", 
      "metadata": {}
    }, 
    {
      "execution_count": null, 
      "cell_type": "code", 
      "source": [
        "# Retrieve the SVC discriminating weights\ncoef_ = svc.coef_\n\n# Reverse masking thanks to the Nifti Masker\ncoef_img = nifti_masker.inverse_transform(coef_)\n\n# Save the coefficients as a Nifti image\ncoef_img.to_filename('haxby_svc_weights.nii')"
      ], 
      "outputs": [], 
      "metadata": {
        "collapsed": false
      }
    }, 
    {
      "source": [
        "Visualize the discriminating weights over the mean EPI\n"
      ], 
      "cell_type": "markdown", 
      "metadata": {}
    }, 
    {
      "execution_count": null, 
      "cell_type": "code", 
      "source": [
        "from nilearn.image import mean_img\nfrom nilearn.plotting import plot_roi, plot_stat_map, show\n\nmean_epi = mean_img(func_filename)\nplot_stat_map(coef_img, mean_epi, title=\"SVM weights\", display_mode=\"yx\")"
      ], 
      "outputs": [], 
      "metadata": {
        "collapsed": false
      }
    }, 
    {
      "source": [
        "Plot also the mask that was computed by the NiftiMasker\n"
      ], 
      "cell_type": "markdown", 
      "metadata": {}
    }, 
    {
      "execution_count": null, 
      "cell_type": "code", 
      "source": [
        "plot_roi(nifti_masker.mask_img_, mean_epi, title=\"Mask\", display_mode=\"yx\")\n\nshow()"
      ], 
      "outputs": [], 
      "metadata": {
        "collapsed": false
      }
    }
  ], 
  "metadata": {
    "kernelspec": {
      "display_name": "Python 2", 
      "name": "python2", 
      "language": "python"
    }, 
    "language_info": {
      "mimetype": "text/x-python", 
      "nbconvert_exporter": "python", 
      "name": "python", 
      "file_extension": ".py", 
      "version": "2.7.10", 
      "pygments_lexer": "ipython2", 
      "codemirror_mode": {
        "version": 2, 
        "name": "ipython"
      }
    }
  }
}