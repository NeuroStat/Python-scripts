{
 "cells": [
  {
   "cell_type": "code",
   "execution_count": 5,
   "metadata": {
    "collapsed": false
   },
   "outputs": [
    {
     "name": "stdout",
     "output_type": "stream",
     "text": [
      "Hello, world\n"
     ]
    }
   ],
   "source": [
    "print(\"Hello, world\")"
   ]
  },
  {
   "cell_type": "code",
   "execution_count": 6,
   "metadata": {
    "collapsed": false
   },
   "outputs": [
    {
     "name": "stdout",
     "output_type": "stream",
     "text": [
      "2\n"
     ]
    }
   ],
   "source": [
    "# We can also create comments\n",
    "print(1 + 1)"
   ]
  },
  {
   "cell_type": "code",
   "execution_count": 3,
   "metadata": {
    "collapsed": false
   },
   "outputs": [
    {
     "name": "stdout",
     "output_type": "stream",
     "text": [
      "Hello Sponge Bob\n"
     ]
    }
   ],
   "source": [
    "# Create string\n",
    "template = \"Hello %s\"\n",
    "print(template % \"Sponge Bob\")"
   ]
  },
  {
   "cell_type": "code",
   "execution_count": 4,
   "metadata": {
    "collapsed": false
   },
   "outputs": [
    {
     "name": "stdout",
     "output_type": "stream",
     "text": [
      "Hello, Sponge Bob. 1 + 2 = 3.\n"
     ]
    }
   ],
   "source": [
    "template = \"Hello, %s. %i + %i = %i.\"\n",
    "print(template % (\"Sponge Bob\", 1, 2, 3))"
   ]
  },
  {
   "cell_type": "code",
   "execution_count": 5,
   "metadata": {
    "collapsed": false
   },
   "outputs": [
    {
     "name": "stdout",
     "output_type": "stream",
     "text": [
      "Hello, Sponge Bob. 1 + 2 = \n"
     ]
    }
   ],
   "source": [
    "template = \"Hello, %s. %i + %i = \"\n",
    "print(template % (\"Sponge Bob\", 1, 2))"
   ]
  },
  {
   "cell_type": "code",
   "execution_count": 7,
   "metadata": {
    "collapsed": false
   },
   "outputs": [
    {
     "data": {
      "text/plain": [
       "str"
      ]
     },
     "execution_count": 7,
     "metadata": {},
     "output_type": "execute_result"
    }
   ],
   "source": [
    "# Check the structure: tuple means 'should not be changed anymore'\n",
    "type((\"Hello, %s. %i + %i = %i.\"))"
   ]
  },
  {
   "cell_type": "code",
   "execution_count": 10,
   "metadata": {
    "collapsed": false
   },
   "outputs": [
    {
     "data": {
      "text/plain": [
       "str"
      ]
     },
     "execution_count": 10,
     "metadata": {},
     "output_type": "execute_result"
    }
   ],
   "source": [
    "extra =\"\"\"bla bla bla bla \\\n",
    "    test 2 \\\n",
    "blq\"\"\"\n",
    "type(extra)"
   ]
  },
  {
   "cell_type": "code",
   "execution_count": 13,
   "metadata": {
    "collapsed": false
   },
   "outputs": [
    {
     "name": "stdout",
     "output_type": "stream",
     "text": [
      "Hello, I'm Mr. Bumble\n",
      "['Hello,', \"I'm\", 'Mr.', 'Bumble']\n"
     ]
    }
   ],
   "source": [
    "# Anything in Python is an object (split object method)\n",
    "raw = \"Hello, I'm Mr. Bumble\"\n",
    "print(raw)\n",
    "parts = raw.split(\" \")\n",
    "print(parts)"
   ]
  },
  {
   "cell_type": "code",
   "execution_count": 14,
   "metadata": {
    "collapsed": false
   },
   "outputs": [
    {
     "data": {
      "text/plain": [
       "list"
      ]
     },
     "execution_count": 14,
     "metadata": {},
     "output_type": "execute_result"
    }
   ],
   "source": [
    "# [] brackets point to list type (= ordered).\n",
    "type(parts)"
   ]
  },
  {
   "cell_type": "code",
   "execution_count": null,
   "metadata": {
    "collapsed": true
   },
   "outputs": [],
   "source": [
    "# Use tab to get to help\n",
    "parts."
   ]
  },
  {
   "cell_type": "code",
   "execution_count": 19,
   "metadata": {
    "collapsed": false
   },
   "outputs": [
    {
     "name": "stdout",
     "output_type": "stream",
     "text": [
      "What is your name? sanne\n",
      "Hello, sanne. \n"
     ]
    }
   ],
   "source": [
    "name = input(\"What is your name? \")\n",
    "print(\"Hello, %s. \" % name)"
   ]
  },
  {
   "cell_type": "code",
   "execution_count": null,
   "metadata": {
    "collapsed": true
   },
   "outputs": [],
   "source": []
  }
 ],
 "metadata": {
  "kernelspec": {
   "display_name": "Python 3",
   "language": "python",
   "name": "python3"
  },
  "language_info": {
   "codemirror_mode": {
    "name": "ipython",
    "version": 3
   },
   "file_extension": ".py",
   "mimetype": "text/x-python",
   "name": "python",
   "nbconvert_exporter": "python",
   "pygments_lexer": "ipython3",
   "version": "3.5.1"
  }
 },
 "nbformat": 4,
 "nbformat_minor": 0
}
{
  "cell_type": "code",
  "execution_count": 23,
  "metadata": {
   "collapsed": false
  },
  "outputs": [
   {
    "data": {
     "text/plain": [
      "<function print>"
     ]
    },
    "execution_count": 23,
    "metadata": {},
    "output_type": "execute_result"
   }
  ],
  "source": [
   "# Something with indentation!\n",
   "interest_rate = .1\n",
   "principal = 500\n",
   "time = 3\n",
   "amount = principal * (1 + interest_rate) ** time\n",
   "print"
  ]
 },
 {
  "cell_type": "code",
  "execution_count": 24,
  "metadata": {
   "collapsed": false
  },
  "outputs": [
   {
    "data": {
     "text/plain": [
      "numpy.int32"
     ]
    },
    "execution_count": 24,
    "metadata": {},
    "output_type": "execute_result"
   }
  ],
  "source": [
   "import numpy as np\n",
   "type(np.int32(1))"
  ]
 },
 {
  "cell_type": "code",
  "execution_count": 29,
  "metadata": {
   "collapsed": false
  },
  "outputs": [
   {
    "name": "stdout",
    "output_type": "stream",
    "text": [
     "41\n"
    ]
   }
  ],
  "source": [
   "age = \"40\"\n",
   "print(int(age) + 1)"
  ]
 },
 {
  "cell_type": "code",
  "execution_count": 30,
  "metadata": {
   "collapsed": false
  },
  "outputs": [
   {
    "data": {
     "text/plain": [
      "'41'"
     ]
    },
    "execution_count": 30,
    "metadata": {},
    "output_type": "execute_result"
   }
  ],
  "source": [
   "str(int(age) + 1)"
  ]
 },
 {
  "cell_type": "code",
  "execution_count": 33,
  "metadata": {
   "collapsed": false
  },
  "outputs": [
   {
    "name": "stdout",
    "output_type": "stream",
    "text": [
     "Semga is 45 and weighs at 95.\n"
    ]
   }
  ],
  "source": [
   "# A dictionary is a data structure for storing key-value pairs. For example, a person might have a name Semga, age 45, weight 95, ec...\n",
   "person = {\"name\" : \"Semga\", \"age\": 45, \"weight\": 95}\n",
   "print(\"%s is %i and weighs at %i.\" % (person[\"name\"], person[\"age\"], person[\"weight\"]))"
  ]
 },
 {
  "cell_type": "code",
  "execution_count": null,
  "metadata": {
   "collapsed": true
  },
  "outputs": [],
  "source": []
 }
],
"metadata": {
 "kernelspec": {
  "display_name": "Python 3",
  "language": "python",
  "name": "python3"
 },
 "language_info": {
  "codemirror_mode
